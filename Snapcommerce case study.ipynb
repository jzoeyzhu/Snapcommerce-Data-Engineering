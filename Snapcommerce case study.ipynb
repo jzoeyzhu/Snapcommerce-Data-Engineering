{
 "cells": [
  {
   "cell_type": "markdown",
   "metadata": {},
   "source": [
    "## Data Engineer Co-op Case Study for Snapcommerce"
   ]
  },
  {
   "cell_type": "markdown",
   "metadata": {},
   "source": [
    "##### By Jiayun Zhu"
   ]
  },
  {
   "cell_type": "code",
   "execution_count": 1,
   "metadata": {},
   "outputs": [],
   "source": [
    "import pandas as pd\n",
    "import io\n",
    "import string\n",
    "from pandasql import sqldf"
   ]
  },
  {
   "cell_type": "code",
   "execution_count": 2,
   "metadata": {},
   "outputs": [],
   "source": [
    "data = 'Airline Code;DelayTimes;FlightCodes;To_From\\nAir Canada (!);[21, 40];20015.0;WAterLoo_NEWYork\\n<Air France> (12);[];;Montreal_TORONTO\\n(Porter Airways. );[60, 22, 87];20035.0;CALgary_Ottawa\\n12. Air France;[78, 66];;Ottawa_VANcouvER\\n\"\"\".\\\\.Lufthansa.\\\\.\"\"\";[12, 33];20055.0;london_MONTreal\\n'"
   ]
  },
  {
   "cell_type": "code",
   "execution_count": 3,
   "metadata": {},
   "outputs": [],
   "source": [
    "data = io.StringIO(data)"
   ]
  },
  {
   "cell_type": "code",
   "execution_count": 4,
   "metadata": {},
   "outputs": [
    {
     "data": {
      "text/html": [
       "<div>\n",
       "<style scoped>\n",
       "    .dataframe tbody tr th:only-of-type {\n",
       "        vertical-align: middle;\n",
       "    }\n",
       "\n",
       "    .dataframe tbody tr th {\n",
       "        vertical-align: top;\n",
       "    }\n",
       "\n",
       "    .dataframe thead th {\n",
       "        text-align: right;\n",
       "    }\n",
       "</style>\n",
       "<table border=\"1\" class=\"dataframe\">\n",
       "  <thead>\n",
       "    <tr style=\"text-align: right;\">\n",
       "      <th></th>\n",
       "      <th>Airline Code</th>\n",
       "      <th>DelayTimes</th>\n",
       "      <th>FlightCodes</th>\n",
       "      <th>To_From</th>\n",
       "    </tr>\n",
       "  </thead>\n",
       "  <tbody>\n",
       "    <tr>\n",
       "      <th>0</th>\n",
       "      <td>Air Canada (!)</td>\n",
       "      <td>[21, 40]</td>\n",
       "      <td>20015.0</td>\n",
       "      <td>WAterLoo_NEWYork</td>\n",
       "    </tr>\n",
       "    <tr>\n",
       "      <th>1</th>\n",
       "      <td>&lt;Air France&gt; (12)</td>\n",
       "      <td>[]</td>\n",
       "      <td>NaN</td>\n",
       "      <td>Montreal_TORONTO</td>\n",
       "    </tr>\n",
       "    <tr>\n",
       "      <th>2</th>\n",
       "      <td>(Porter Airways. )</td>\n",
       "      <td>[60, 22, 87]</td>\n",
       "      <td>20035.0</td>\n",
       "      <td>CALgary_Ottawa</td>\n",
       "    </tr>\n",
       "    <tr>\n",
       "      <th>3</th>\n",
       "      <td>12. Air France</td>\n",
       "      <td>[78, 66]</td>\n",
       "      <td>NaN</td>\n",
       "      <td>Ottawa_VANcouvER</td>\n",
       "    </tr>\n",
       "    <tr>\n",
       "      <th>4</th>\n",
       "      <td>\".\\.Lufthansa.\\.\"</td>\n",
       "      <td>[12, 33]</td>\n",
       "      <td>20055.0</td>\n",
       "      <td>london_MONTreal</td>\n",
       "    </tr>\n",
       "  </tbody>\n",
       "</table>\n",
       "</div>"
      ],
      "text/plain": [
       "         Airline Code    DelayTimes  FlightCodes           To_From\n",
       "0      Air Canada (!)      [21, 40]      20015.0  WAterLoo_NEWYork\n",
       "1   <Air France> (12)            []          NaN  Montreal_TORONTO\n",
       "2  (Porter Airways. )  [60, 22, 87]      20035.0    CALgary_Ottawa\n",
       "3      12. Air France      [78, 66]          NaN  Ottawa_VANcouvER\n",
       "4   \".\\.Lufthansa.\\.\"      [12, 33]      20055.0   london_MONTreal"
      ]
     },
     "execution_count": 4,
     "metadata": {},
     "output_type": "execute_result"
    }
   ],
   "source": [
    "# coverting the string to a dataframe\n",
    "df = pd.read_csv(data, sep=\";\" )\n",
    "df"
   ]
  },
  {
   "cell_type": "code",
   "execution_count": 5,
   "metadata": {
    "scrolled": true
   },
   "outputs": [],
   "source": [
    "## FlightCodes missing data handling\n",
    "flightCodes_idx = df.columns.get_loc(\"FlightCodes\")\n",
    "start_point = int(df.iloc[0,flightCodes_idx])\n",
    "n_increment = 10\n",
    "\n",
    "df.FlightCodes = list(range(start_point, start_point + n_increment * len(df),n_increment))"
   ]
  },
  {
   "cell_type": "code",
   "execution_count": 6,
   "metadata": {},
   "outputs": [],
   "source": [
    "## To_From\n",
    "df[[\"Departure\", \"Arrival\"]] = df[\"To_From\"].str.upper().str.split(\"_\",expand = True)\n",
    "df = df.drop(columns=\"To_From\")"
   ]
  },
  {
   "cell_type": "code",
   "execution_count": 7,
   "metadata": {
    "scrolled": true
   },
   "outputs": [],
   "source": [
    "# remove punctuation\n",
    "str_punct = string.punctuation\n",
    "\n",
    "def remove_punct(s):\n",
    "    for punct in str_punct:\n",
    "        s = s.replace(punct, '')\n",
    "    return s\n",
    "\n",
    "df[\"Airline Code\"] = df[\"Airline Code\"].apply(remove_punct)"
   ]
  },
  {
   "cell_type": "code",
   "execution_count": 8,
   "metadata": {},
   "outputs": [],
   "source": [
    "# all flights leaving from Waterloo\n",
    "departure_city = \"WATERLOO\"\n",
    "query = '''select * \n",
    "        from df\n",
    "        where departure = \"{var1}\"\n",
    "        ;\n",
    "        '''.format(var1 = departure_city.upper())\n",
    "results = sqldf(query)"
   ]
  }
 ],
 "metadata": {
  "kernelspec": {
   "display_name": "Python 3",
   "language": "python",
   "name": "python3"
  },
  "language_info": {
   "codemirror_mode": {
    "name": "ipython",
    "version": 3
   },
   "file_extension": ".py",
   "mimetype": "text/x-python",
   "name": "python",
   "nbconvert_exporter": "python",
   "pygments_lexer": "ipython3",
   "version": "3.8.3"
  }
 },
 "nbformat": 4,
 "nbformat_minor": 4
}
